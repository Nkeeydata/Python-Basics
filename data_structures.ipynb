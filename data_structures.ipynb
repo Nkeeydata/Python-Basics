{
 "cells": [
  {
   "cell_type": "markdown",
   "id": "1ecf3a4d-dbf7-457c-af08-31541558a84c",
   "metadata": {},
   "source": [
    "# Assignment - Python Programming Basics\n",
    "\n",
    "**Instruction:** Answer each question on a separate cell, either in a markdown or code cell depending on the question. "
   ]
  },
  {
   "cell_type": "markdown",
   "id": "488e215b-e99a-4c74-9f87-fff4a6665b4e",
   "metadata": {},
   "source": [
    "## Question 1\n",
    "\n",
    "1. Why is consistent indentation important in Python, and what error does Python throw if the indentation in inconsistent?\n",
    "   \n",
    " "
   ]
  },
  {
   "cell_type": "code",
   "execution_count": null,
   "id": "0ebacbc1-fc16-4a80-b16a-277ee9e3bdf4",
   "metadata": {},
   "outputs": [],
   "source": [
    "  Consistent indentation is important in Python because Python relies on consistent indentation to define the structure of your code such as function definitions.\n",
    "\n",
    "   The error code display is as follows\n",
    "   IndentationError: unexpected indent"
   ]
  },
  {
   "cell_type": "markdown",
   "id": "8bbca766-02b7-4e40-879c-5a4e7230544e",
   "metadata": {},
   "source": [
    "## Question 2\n",
    "\n",
    "2. What are the mutable and immutable data types in Python? Give two examples of each.\n",
    "\n",
    "   Mutable data types are those data types that their values can be changed after creation.\n",
    "   Example : list and set\n",
    "\n",
    "   Immutable data types are those data types whose values cannot be changed after creation.\n",
    "   Example : tuple and float\n"
   ]
  },
  {
   "cell_type": "markdown",
   "id": "502dfe64-54ba-4e12-8d18-755a713109f8",
   "metadata": {},
   "source": [
    "## Question 3\n",
    "\n",
    "3. How do you convert a floating-point number to an integer, and what happenss to the fractional part after conversion?"
   ]
  },
  {
   "cell_type": "markdown",
   "id": "af69f1d7-f8cd-4f60-b81a-e5b29c278e9a",
   "metadata": {},
   "source": [
    "## Question 4\n",
    "\n",
    "4. What is the difference between a list and a tuple?\n",
    "\n"
   ]
  },
  {
   "cell_type": "code",
   "execution_count": null,
   "id": "fda6a7a0-4d41-4350-b0ba-f20994070b8c",
   "metadata": {},
   "outputs": [],
   "source": [
    "The difference between a list and a tuple is that, a list start with a square bracket such as [], while a tuple starts with a normal bracket such as ()."
   ]
  },
  {
   "cell_type": "markdown",
   "id": "f31571de-6ed9-4958-a8d7-71b584ed6e2c",
   "metadata": {},
   "source": [
    "## Question 5\n",
    "\n",
    "5. print out the datatype for the following variables? \n",
    "   ```python\n",
    "   a = 123\n",
    "   b = [1, 2, 3]\n",
    "   c = \"Python programming Language\"\n",
    "   d = (1, 2, 3)\n",
    "   e = {\"A\": 1, \"B\": 2, \"C\": 3}\n",
    "    ```\n",
    "\n",
    "   \n",
    "   "
   ]
  },
  {
   "cell_type": "code",
   "execution_count": 11,
   "id": "f500ef59-ec56-4173-8ddc-b0b34e9bcf48",
   "metadata": {},
   "outputs": [
    {
     "name": "stdout",
     "output_type": "stream",
     "text": [
      "<class 'int'>\n",
      "<class 'list'>\n",
      "<class 'str'>\n",
      "<class 'tuple'>\n",
      "<class 'dict'>\n"
     ]
    }
   ],
   "source": [
    "a = 123\n",
    "b = [1,2,3]\n",
    "c = \"Python programming Language\"\n",
    "d = (1,2,3)\n",
    "e = {\"A\": 1, \"B\": 2, \"C\": 3}\n",
    "\n",
    "print(type(a))\n",
    "print(type(b))\n",
    "print(type(c))\n",
    "print(type(d))\n",
    "print(type(e))"
   ]
  },
  {
   "cell_type": "markdown",
   "id": "3a041f8e-cc9a-42e5-923f-394973cbbe63",
   "metadata": {},
   "source": [
    "## Question 6\n",
    "\n",
    "6. What is the difference between a comment and a docstring in Python, and how does Python treat each differently?"
   ]
  },
  {
   "cell_type": "markdown",
   "id": "4278db41-ab61-42e4-a1b7-a66845e08559",
   "metadata": {},
   "source": [
    "A Comment is a word a prorammer can used to explain his/her codes in python. Python don't run comments, and it starts with an # symbol. Example : # you are a girl\n",
    "While a Docstring is noticed by python, but doesn't execute it. it's syntax is triple quote, either single quote or double quote. Example, \"\"\" i love this girl\"\"\""
   ]
  },
  {
   "cell_type": "markdown",
   "id": "f9ee7e70-94fe-4f5a-8f73-4836c211ed57",
   "metadata": {},
   "source": [
    "## Question 7\n",
    "\n",
    "7. Do the following conversions and print out their new datatypes (Hint: use the type() function).\n",
    "  - ```1234``` to ```str```\n",
    "  - ```\"iPython\"``` to ```list```\n",
    "  - ```23.5``` to ```int```\n",
    "  - ```45``` to ```float```"
   ]
  },
  {
   "cell_type": "code",
   "execution_count": 81,
   "id": "1dc40a36-c0b5-4003-bcb1-e93e8c21f9d4",
   "metadata": {},
   "outputs": [
    {
     "data": {
      "text/plain": [
       "'1234'"
      ]
     },
     "execution_count": 81,
     "metadata": {},
     "output_type": "execute_result"
    }
   ],
   "source": [
    "int = 1234\n",
    "\n",
    "str(int)\n"
   ]
  },
  {
   "cell_type": "code",
   "execution_count": 85,
   "id": "2d0d7b0a-22b7-4e33-85e9-4d1864fd1ca5",
   "metadata": {},
   "outputs": [
    {
     "data": {
      "text/plain": [
       "['i', 'p', 'y', 't', 'h', 'o', 'n']"
      ]
     },
     "execution_count": 85,
     "metadata": {},
     "output_type": "execute_result"
    }
   ],
   "source": [
    "string = \"ipython\"\n",
    "list(string)\n"
   ]
  },
  {
   "cell_type": "code",
   "execution_count": 91,
   "id": "98a346ee-63d5-4ff2-b7a8-c7fbe7ff86e2",
   "metadata": {},
   "outputs": [
    {
     "ename": "TypeError",
     "evalue": "'float' object is not callable",
     "output_type": "error",
     "traceback": [
      "\u001b[1;31m---------------------------------------------------------------------------\u001b[0m",
      "\u001b[1;31mTypeError\u001b[0m                                 Traceback (most recent call last)",
      "Cell \u001b[1;32mIn[91], line 2\u001b[0m\n\u001b[0;32m      1\u001b[0m U_int \u001b[38;5;241m=\u001b[39m \u001b[38;5;241m45\u001b[39m\n\u001b[1;32m----> 2\u001b[0m \u001b[38;5;28mfloat\u001b[39m(U_int)\n",
      "\u001b[1;31mTypeError\u001b[0m: 'float' object is not callable"
     ]
    }
   ],
   "source": [
    "U_int = 45\n",
    "float(U_int)"
   ]
  },
  {
   "cell_type": "markdown",
   "id": "20cab329-3a5c-4883-9a8a-943d2a589fd6",
   "metadata": {},
   "source": [
    "## Question 8\n",
    "\n",
    "8. Create a dictionary containing the following information (you can just make up the information):\n",
    "    - Name (Use your name here)\n",
    "    - Age\n",
    "    - Sex\n",
    "    - Profession\n",
    "    - Religion\n",
    "    - Nationality\n"
   ]
  },
  {
   "cell_type": "code",
   "execution_count": 31,
   "id": "534f571e-0c94-4b81-9080-155cb94cb912",
   "metadata": {},
   "outputs": [
    {
     "name": "stdout",
     "output_type": "stream",
     "text": [
      "{'Name': 'Nkechika Collins Akpe', 'Age': 23, 'Sex': 'Female', 'Profession': 'Scientist', 'Religion': 'Christainity', 'Nationality': 'Ghanian'}\n"
     ]
    }
   ],
   "source": [
    "my_dict = {\"Name\" : \"Nkechika Collins Akpe\", \"Age\" : 23, \"Sex\" : \"Female\", \"Profession\" : \"Scientist\", \"Religion\" : \"Christainity\", \"Nationality\" : \"Ghanian\"}\n",
    "print(my_dict)"
   ]
  },
  {
   "cell_type": "markdown",
   "id": "6ae93d1e-e8f3-444b-b7e0-4d4bebee3dce",
   "metadata": {},
   "source": [
    "## Question 9\n",
    "\n",
    "9. Change the elements at index 3, 6, and 7 of the list ```[24, 56, \"programming\", \"javascript\", 56, 54.3, \"data analytics\", \"Argentina\"]``` to \"python\", \"data science\", and \"Nigeria\" respectfully."
   ]
  },
  {
   "cell_type": "code",
   "execution_count": 27,
   "id": "9518eac6-e407-4b56-be1a-09f583249e9f",
   "metadata": {},
   "outputs": [
    {
     "name": "stdout",
     "output_type": "stream",
     "text": [
      "[24, 56, 'programming', 'python', 56, 54.3, 'data science', 'Nigeria']\n"
     ]
    }
   ],
   "source": [
    "my_list = [24, 56, \"programming\", \"javascript\", 56,54.3, \"data analytics\", \"Argentina\"]\n",
    "my_list[3] = \"python\"\n",
    "my_list[6] = \"data science\"\n",
    "my_list[7] = \"Nigeria\"\n",
    "print(my_list)"
   ]
  },
  {
   "cell_type": "markdown",
   "id": "997a374c-daf5-4183-81a4-c390a2b59113",
   "metadata": {},
   "source": [
    "## Question 10\n",
    "\n",
    "- Create a list, tuple and set containing 10 elements each, having a mix of integer, float and string datatypes."
   ]
  },
  {
   "cell_type": "code",
   "execution_count": null,
   "id": "6ccbbf8e-770b-4967-8dce-93f85ebee355",
   "metadata": {},
   "outputs": [],
   "source": [
    "A_list = [23, 24.5, \"book\", \"school\", 32, 29, 28.9, \"estate\", \"country\", 78.2]\n",
    "A_tuple = (10.0, 20.0, 30.0, 40.0, 43, 45, 65, \"girl\", \"boy\", \"male\")\n",
    "A_set = {\"big\", \"small\", \"slim\", \"fat\", 23, 21, 34.2, 26,8, 87.2, 66}\n"
   ]
  }
 ],
 "metadata": {
  "kernelspec": {
   "display_name": "Python 3 (ipykernel)",
   "language": "python",
   "name": "python3"
  },
  "language_info": {
   "codemirror_mode": {
    "name": "ipython",
    "version": 3
   },
   "file_extension": ".py",
   "mimetype": "text/x-python",
   "name": "python",
   "nbconvert_exporter": "python",
   "pygments_lexer": "ipython3",
   "version": "3.12.4"
  }
 },
 "nbformat": 4,
 "nbformat_minor": 5
}
