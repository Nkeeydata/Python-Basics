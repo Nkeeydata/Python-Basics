{
 "cells": [
  {
   "cell_type": "code",
   "execution_count": null,
   "id": "ec4bb53d-edcf-4330-9c78-ccf7d3a9c99a",
   "metadata": {},
   "outputs": [],
   "source": [
    "Question 1\n",
    "Write a Python program using a for loop that iterates from 5 to 30 and adds 2 to each number. Print the result for each loop.\n",
    "                                                                                                              "
   ]
  },
  {
   "cell_type": "code",
   "execution_count": 1,
   "id": "7b29cb40-b2e3-437b-9669-dc16bd3f8303",
   "metadata": {},
   "outputs": [],
   "source": [
    "import numpy as np"
   ]
  },
  {
   "cell_type": "code",
   "execution_count": 3,
   "id": "f4620ce5-3f6b-4b38-9952-b0b663eff18e",
   "metadata": {},
   "outputs": [
    {
     "name": "stdout",
     "output_type": "stream",
     "text": [
      "5\n",
      "7\n",
      "9\n",
      "11\n",
      "13\n",
      "15\n",
      "17\n",
      "19\n",
      "21\n",
      "23\n",
      "25\n",
      "27\n",
      "29\n"
     ]
    }
   ],
   "source": [
    "# A program that iterates from 5 to 30, adding 2 to each using FOR LOOP\n",
    "\n",
    "for num in range(5,30,2):\n",
    "    print(num)"
   ]
  },
  {
   "cell_type": "code",
   "execution_count": null,
   "id": "814fc122-c394-47d3-8b2a-358c41206403",
   "metadata": {},
   "outputs": [],
   "source": [
    "\n",
    "Question 2\n",
    "Given a variable x = 5, write a Python program using a while loop that checks if x <= 55 and increment x by 5 if True. For each iteration print the value of x."
   ]
  },
  {
   "cell_type": "code",
   "execution_count": 5,
   "id": "ee73ef72-84a6-4ace-bb0b-c93bd12636ba",
   "metadata": {},
   "outputs": [
    {
     "name": "stdout",
     "output_type": "stream",
     "text": [
      "5\n",
      "10\n",
      "10\n",
      "15\n",
      "15\n",
      "20\n",
      "20\n",
      "25\n",
      "25\n",
      "30\n",
      "30\n",
      "35\n",
      "35\n",
      "40\n",
      "40\n",
      "45\n",
      "45\n",
      "50\n",
      "50\n",
      "55\n",
      "55\n",
      "60\n"
     ]
    }
   ],
   "source": [
    "# A program that returs a result for a variable as long as the condition is true using WHILE LOOP\n",
    "\n",
    "x = 5\n",
    "while x <= 55:\n",
    "    print(x)\n",
    "    x +=5\n",
    "    print(x)"
   ]
  },
  {
   "cell_type": "code",
   "execution_count": null,
   "id": "bbc8c09f-ed53-4ec9-bc6d-24f5deb27f83",
   "metadata": {},
   "outputs": [],
   "source": [
    "Question 3\n",
    "Write a function in Python that accepts a list of integers and returns a NumPy array containing these integers. Show how you would call this function with the list [67, 43, 56, 43, 46]."
   ]
  },
  {
   "cell_type": "code",
   "execution_count": 7,
   "id": "342e825c-dced-4ad9-b45a-2d3b890b7387",
   "metadata": {},
   "outputs": [
    {
     "data": {
      "text/plain": [
       "array([67, 43, 56, 43, 46])"
      ]
     },
     "execution_count": 7,
     "metadata": {},
     "output_type": "execute_result"
    }
   ],
   "source": [
    "# Returning a list of integer as an array:\n",
    "\n",
    "int = [67,43,56,43,46]\n",
    "    \n",
    "np.array(int)"
   ]
  },
  {
   "cell_type": "code",
   "execution_count": 22,
   "id": "da7d5ce7-1c16-4152-a4c9-0734e797751d",
   "metadata": {},
   "outputs": [],
   "source": [
    "# showing how the function will be called on\n",
    "\n",
    "def calus(num_1,num_2,num_3,num_4,num_5):\n",
    "    int = 67,43,56,43,46\n",
    "    return int"
   ]
  },
  {
   "cell_type": "markdown",
   "id": "a1b2b572-00de-4a66-897e-d3e6f80eb566",
   "metadata": {},
   "source": [
    "### **Question 4**\n",
    "\n",
    " Demonstrate how to create a 1-dimensional, 2-dimensional, and 3-dimensional numpy arrays using `np.array`. Use any suitable data for the arrays and display each. The 1 dimensional, 2 dimensional and 3 dimensional arrays you created should have shapes of ```(7,), (4, 4), and (3, 2, 3)``` respectively. Print out the shapes of each array after you have created them."
   ]
  },
  {
   "cell_type": "code",
   "execution_count": 24,
   "id": "ef9fb860-8cc4-4985-ae58-fb75ad078134",
   "metadata": {},
   "outputs": [
    {
     "data": {
      "text/plain": [
       "array([1, 2, 3, 4, 5, 6, 7])"
      ]
     },
     "execution_count": 24,
     "metadata": {},
     "output_type": "execute_result"
    }
   ],
   "source": [
    "# Demonstrating how to create and print 1,2,3-dimensional arrays\n",
    "\n",
    "# 1-dimensional array of (7,)\n",
    "num_1 = ([1,\n",
    "         2,\n",
    "         3,\n",
    "         4,\n",
    "         5,\n",
    "         6,\n",
    "         7])\n",
    "np.array(num_1)"
   ]
  },
  {
   "cell_type": "code",
   "execution_count": 26,
   "id": "bf7883e4-2643-4a79-8a9b-ffd88f0bd774",
   "metadata": {},
   "outputs": [
    {
     "data": {
      "text/plain": [
       "array([[1, 2, 3, 4],\n",
       "       [1, 2, 3, 4],\n",
       "       [1, 2, 3, 4],\n",
       "       [1, 2, 3, 4]])"
      ]
     },
     "execution_count": 26,
     "metadata": {},
     "output_type": "execute_result"
    }
   ],
   "source": [
    "# 2-dimensional array of (4,4)\n",
    "\n",
    "num_2 = ([[1,2,3,4],\n",
    "         [1,2,3,4],\n",
    "         [1,2,3,4],\n",
    "         [1,2,3,4]])\n",
    "np.array(num_2)\n",
    "#my_array2 = np.array(num_2)\n",
    "#print(my_array2"
   ]
  },
  {
   "cell_type": "code",
   "execution_count": 28,
   "id": "0d4de6fc-1d90-41cc-8235-3d7722f11705",
   "metadata": {},
   "outputs": [
    {
     "data": {
      "text/plain": [
       "array([[[1, 2, 3],\n",
       "        [1, 2, 3]],\n",
       "\n",
       "       [[1, 2, 3],\n",
       "        [1, 2, 3]],\n",
       "\n",
       "       [[1, 2, 3],\n",
       "        [1, 2, 3]]])"
      ]
     },
     "execution_count": 28,
     "metadata": {},
     "output_type": "execute_result"
    }
   ],
   "source": [
    "# 3-dimensional array of (3,2,3)\n",
    "\n",
    "num_3 = ([[1,2,3],\n",
    "         [1,2,3]],\n",
    "\n",
    "         [[1,2,3],\n",
    "         [1,2,3]],\n",
    "\n",
    "         [[1,2,3],\n",
    "          [1,2,3]])\n",
    "\n",
    "np.array(num_3)"
   ]
  },
  {
   "cell_type": "code",
   "execution_count": 30,
   "id": "d7f2c0b8-00c0-4ed0-9e2c-fc31ffa18ecd",
   "metadata": {},
   "outputs": [
    {
     "data": {
      "text/plain": [
       "(7,)"
      ]
     },
     "execution_count": 30,
     "metadata": {},
     "output_type": "execute_result"
    }
   ],
   "source": [
    "# shape of the 1-dimensional array above\n",
    "my_array1 = np.array(num_1)\n",
    "my_array1.shape"
   ]
  },
  {
   "cell_type": "code",
   "execution_count": 32,
   "id": "089d5776-4fa5-42de-b72f-bd8053920092",
   "metadata": {},
   "outputs": [
    {
     "data": {
      "text/plain": [
       "(4, 4)"
      ]
     },
     "execution_count": 32,
     "metadata": {},
     "output_type": "execute_result"
    }
   ],
   "source": [
    "# shape of the 2-dimensional array above\n",
    "my_array2 = np.array(num_2)\n",
    "my_array2.shape"
   ]
  },
  {
   "cell_type": "code",
   "execution_count": 34,
   "id": "f6566e74-4bd1-4476-8f56-7800cee4efeb",
   "metadata": {},
   "outputs": [
    {
     "data": {
      "text/plain": [
       "(3, 2, 3)"
      ]
     },
     "execution_count": 34,
     "metadata": {},
     "output_type": "execute_result"
    }
   ],
   "source": [
    "# shape of the 3-dimensional array above\n",
    "my_array3 = np.array(num_3)\n",
    "my_array3.shape"
   ]
  },
  {
   "cell_type": "code",
   "execution_count": null,
   "id": "54186b49-638f-4703-aaa1-7ee805ee8d11",
   "metadata": {},
   "outputs": [],
   "source": [
    "\n",
    "Question 5\n",
    "5a. Write a Python code to create two arrays using np.zeros and np.ones with a shape of (4, 5). Print both arrays.\n",
    "5b. Using the np.arange function, create an array from 10 - 36\n",
    "5c. Generate a numpy array with 25 linearly spaced values ranging from 20 to 50 using np.linspace. Print the array."
   ]
  },
  {
   "cell_type": "code",
   "execution_count": 36,
   "id": "9f538398-5db3-4d74-aa64-2af5af12de01",
   "metadata": {},
   "outputs": [
    {
     "name": "stdout",
     "output_type": "stream",
     "text": [
      "[[0. 0. 0. 0. 0.]\n",
      " [0. 0. 0. 0. 0.]\n",
      " [0. 0. 0. 0. 0.]\n",
      " [0. 0. 0. 0. 0.]]\n"
     ]
    }
   ],
   "source": [
    "# python code of arrays using np.zeros and np.ones\n",
    "\n",
    "# Using np.zeros\n",
    "\n",
    "np.zeros((4,5))\n",
    "my_list = np.zeros((4,5))\n",
    "print(my_list)"
   ]
  },
  {
   "cell_type": "code",
   "execution_count": 38,
   "id": "b2a39751-c40b-4f5b-92aa-5eba3e8649db",
   "metadata": {},
   "outputs": [
    {
     "name": "stdout",
     "output_type": "stream",
     "text": [
      "[[1. 1. 1. 1. 1.]\n",
      " [1. 1. 1. 1. 1.]\n",
      " [1. 1. 1. 1. 1.]\n",
      " [1. 1. 1. 1. 1.]]\n"
     ]
    }
   ],
   "source": [
    "# Using np.ones\n",
    "\n",
    "np.ones((4,5))\n",
    "my_list = np.ones((4,5))\n",
    "print(my_list)"
   ]
  },
  {
   "cell_type": "code",
   "execution_count": 40,
   "id": "c5acf2ee-d17d-4133-8875-15938576479a",
   "metadata": {},
   "outputs": [
    {
     "data": {
      "text/plain": [
       "array([10, 11, 12, 13, 14, 15, 16, 17, 18, 19, 20, 21, 22, 23, 24, 25, 26,\n",
       "       27, 28, 29, 30, 31, 32, 33, 34, 35])"
      ]
     },
     "execution_count": 40,
     "metadata": {},
     "output_type": "execute_result"
    }
   ],
   "source": [
    "# Creating an array of 10 to 36 using np.arange\n",
    "\n",
    "np.arange(10,36)"
   ]
  },
  {
   "cell_type": "code",
   "execution_count": 42,
   "id": "8fe3e848-ba2d-493b-b30a-8537b2247985",
   "metadata": {},
   "outputs": [
    {
     "name": "stdout",
     "output_type": "stream",
     "text": [
      "[20.   21.25 22.5  23.75 25.   26.25 27.5  28.75 30.   31.25 32.5  33.75\n",
      " 35.   36.25 37.5  38.75 40.   41.25 42.5  43.75 45.   46.25 47.5  48.75\n",
      " 50.  ]\n"
     ]
    }
   ],
   "source": [
    "# Generating a linearly spaced array of 25 values\n",
    "\n",
    "np.linspace(20,50,25)\n",
    "my_array = np.linspace(20,50,25)\n",
    "print(my_array)"
   ]
  }
 ],
 "metadata": {
  "kernelspec": {
   "display_name": "Python 3 (ipykernel)",
   "language": "python",
   "name": "python3"
  },
  "language_info": {
   "codemirror_mode": {
    "name": "ipython",
    "version": 3
   },
   "file_extension": ".py",
   "mimetype": "text/x-python",
   "name": "python",
   "nbconvert_exporter": "python",
   "pygments_lexer": "ipython3",
   "version": "3.12.4"
  }
 },
 "nbformat": 4,
 "nbformat_minor": 5
}
