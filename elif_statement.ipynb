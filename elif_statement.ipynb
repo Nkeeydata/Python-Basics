{
 "cells": [
  {
   "cell_type": "markdown",
   "id": "0c36fbcb-a561-4530-89b8-7e1b036695ea",
   "metadata": {},
   "source": [
    "# Assignment - Week 2\n",
    "\n",
    "**_NOTE: USE COMMENTS IN YOUR CODE_**"
   ]
  },
  {
   "cell_type": "markdown",
   "id": "4f8e89b4-118b-4c24-9cf5-4f272bd5972c",
   "metadata": {},
   "source": [
    "## Question 1\n",
    "1a) Given the variables `name = \"Alice\"` and `age = 30`, use old-style `%` formatting to construct and print the sentence: `\"Alice is 30 years old.\"`\n",
    "\n",
    "1b) You have the variables `item = \"coffee\"` and `price = 2.5`. Use the `str.format()` method to format and print the string: `\"The price of coffee is 2.5 dollars.\"` Ensure the item name and price are dynamically inserted into the string.\n",
    "\n",
    " 1c) With the variables `planet = \"Mars\"` and `distance = 54.6`, use an f-string to print the following statement: `\"Mars is 54.6 million kilometers away from Earth.\"` Embed the variables directly into the string.\n"
   ]
  },
  {
   "cell_type": "code",
   "execution_count": 17,
   "id": "a5bd7756-cf3b-46c5-b9ae-e027d7216567",
   "metadata": {},
   "outputs": [
    {
     "name": "stdout",
     "output_type": "stream",
     "text": [
      "Alice is 30 years old.\n"
     ]
    }
   ],
   "source": [
    "# USING OLD-STYLE % FORMATTING 1A\n",
    "\n",
    "name = \"Alice\"\n",
    "age = 30\n",
    "print(\"%s is %d years old.\" %(name,age))\n"
   ]
  },
  {
   "cell_type": "code",
   "execution_count": 23,
   "id": "afa28bcb-c8a2-49c8-b7ac-39a243be629a",
   "metadata": {},
   "outputs": [
    {
     "name": "stdout",
     "output_type": "stream",
     "text": [
      "The price of coffee is 2.5 dollars.\n"
     ]
    }
   ],
   "source": [
    "# USING STR. FORMAT() 1B\n",
    "\n",
    "item = \"coffee\"\n",
    "price = 2.5\n",
    "print(\"The price of {} is {} dollars.\" .format(item,price))"
   ]
  },
  {
   "cell_type": "code",
   "execution_count": 120,
   "id": "b05e9453-1f13-4dab-b509-4f2e7adde90b",
   "metadata": {},
   "outputs": [
    {
     "name": "stdout",
     "output_type": "stream",
     "text": [
      "The Mars is 54.6, million kilometers away from Earth.\n"
     ]
    }
   ],
   "source": [
    "# USING F-STRING 1C\n",
    "\n",
    "planet = \"Mars\"\n",
    "distance = 54.6\n",
    "\n",
    "print (f\"The {planet} is {distance}, million kilometers away from Earth.\")"
   ]
  },
  {
   "cell_type": "markdown",
   "id": "5505ab94-7105-4b57-9f07-b4d52e2f3f0d",
   "metadata": {},
   "source": [
    "## Question 2\n",
    "Given two variables `a = 10` and `b = 20`, use a comparison operator to check if `a` is less than `b` and print the result."
   ]
  },
  {
   "cell_type": "code",
   "execution_count": 41,
   "id": "bc1b87aa-8a14-42d6-a065-8e2da4c78eeb",
   "metadata": {},
   "outputs": [
    {
     "name": "stdout",
     "output_type": "stream",
     "text": [
      "True\n"
     ]
    }
   ],
   "source": [
    "# Comparism Operator\n",
    "a = 10\n",
    "b = 20\n",
    "print(a<b)"
   ]
  },
  {
   "cell_type": "markdown",
   "id": "da64a520-482b-418a-80be-8740ab784411",
   "metadata": {},
   "source": [
    "## Question 3\n",
    "Create a list `colors = ['red', 'blue', 'green']` and use a membership operator to check if `'yellow'` is in `colors`. Print `True` if it is, and `False` otherwise."
   ]
  },
  {
   "cell_type": "code",
   "execution_count": 43,
   "id": "8356c06f-c62d-4670-9dd0-c83c67805732",
   "metadata": {},
   "outputs": [
    {
     "name": "stdout",
     "output_type": "stream",
     "text": [
      "False\n"
     ]
    }
   ],
   "source": [
    "# Membership Operator\n",
    "\n",
    "colors = ['red', 'blue', 'green']\n",
    "if 'yellow' in 'colors':\n",
    "    print(\"True\")\n",
    "else :\n",
    "    print(\"False\")"
   ]
  },
  {
   "cell_type": "markdown",
   "id": "ba60ac06-e524-4fc6-96ab-fdc16ca5bb5c",
   "metadata": {},
   "source": [
    "## Question 4\n",
    "Using the variables `x = 5` and `y = 10`, write a Python expression using logical operators that checks whether `x` is less than `y` and `x` is not equal to `y`. Print the result."
   ]
  },
  {
   "cell_type": "code",
   "execution_count": 67,
   "id": "81b19942-225b-448d-b4cc-641a1a6d0f48",
   "metadata": {},
   "outputs": [
    {
     "name": "stdout",
     "output_type": "stream",
     "text": [
      "True\n"
     ]
    }
   ],
   "source": [
    "# Logical Operator\n",
    "\n",
    "x = 5\n",
    "y = 10\n",
    "\n",
    "x<y and x!=y\n",
    "print(x<y and x!=y)"
   ]
  },
  {
   "cell_type": "markdown",
   "id": "d6f66ee5-624d-42f3-b942-bcc06af9bf9c",
   "metadata": {},
   "source": [
    "## Question 5\n",
    "Take a variable `count = 5`. Use a compound assignment operator to double its value and then decrement it by `2`. Print the final value of `count`.\n"
   ]
  },
  {
   "cell_type": "code",
   "execution_count": 79,
   "id": "420e837f-c1a1-4db6-89a5-91a042f83966",
   "metadata": {},
   "outputs": [
    {
     "name": "stdout",
     "output_type": "stream",
     "text": [
      "8\n"
     ]
    }
   ],
   "source": [
    "# Compound Assignment Operator\n",
    "\n",
    "count = 5\n",
    "count*=2\n",
    "count-=2\n",
    "print(count)"
   ]
  },
  {
   "cell_type": "markdown",
   "id": "195cd484-bad0-4b65-82d1-ca6d475f275b",
   "metadata": {},
   "source": [
    "## Question 6\n",
    "Suppose `mood = \"happy\"`, use logical operators to print `\"Mood is positive\"` if mood is either `\"happy\"` or `\"excited\"`."
   ]
  },
  {
   "cell_type": "code",
   "execution_count": 94,
   "id": "a6b1e1eb-3fd9-4c83-ab82-8bf529384a1d",
   "metadata": {},
   "outputs": [
    {
     "name": "stdout",
     "output_type": "stream",
     "text": [
      "Mood is positive\n"
     ]
    }
   ],
   "source": [
    "# Logical Operator\n",
    "\n",
    "mood = \"happy\"\n",
    "\n",
    "if mood == \"haapy\" or \"excited\":\n",
    "    print(\"Mood is positive\")"
   ]
  },
  {
   "cell_type": "markdown",
   "id": "3b81efbe-8bfb-40eb-b1f0-537b15b3895b",
   "metadata": {},
   "source": [
    "## Question 7\n",
    "Take two variables `height = 180` and `weight = 75`. Use compound assignment operators to first add `5` to `height` and then subtract `10` from `weight`. Finally, check if `height` is greater than `170` and `weight` is less than `80` using logical operators, printing `\"Healthy\"` if both conditions are met."
   ]
  },
  {
   "cell_type": "code",
   "execution_count": 108,
   "id": "2b4e0b85-3047-422e-89cc-dde2d5afc041",
   "metadata": {},
   "outputs": [
    {
     "name": "stdout",
     "output_type": "stream",
     "text": [
      "Healthy\n"
     ]
    }
   ],
   "source": [
    "# Compound Assignment Operators\n",
    "\n",
    "height = 180\n",
    "weight = 75\n",
    "height+=5\n",
    "weight-=10\n",
    "\n",
    "if height > 170 and weight < 80:\n",
    "    \n",
    "    print(\"Healthy\")"
   ]
  },
  {
   "cell_type": "markdown",
   "id": "7a7ed385-5e14-4e7c-9eb2-d7595f9cf49d",
   "metadata": {},
   "source": [
    "## Question 8\n",
    "Given a list `fruits = ['apple', 'banana', 'cherry']`, use the `not` operator with a membership test to check if `'mango'` is not in `fruits`. Print `\"Mango not found\"` if true."
   ]
  },
  {
   "cell_type": "code",
   "execution_count": 118,
   "id": "4ef4b32b-be2f-4090-827d-6006d47e3dca",
   "metadata": {},
   "outputs": [
    {
     "name": "stdout",
     "output_type": "stream",
     "text": [
      "Mango not found\n"
     ]
    }
   ],
   "source": [
    "# USING THE NOT OPERATOR\n",
    "\n",
    "fruits = ['apple', 'banana', 'cherry']\n",
    "\n",
    "if 'mango' not in 'fruits':\n",
    "    \n",
    "    print(\"Mango not found\")"
   ]
  },
  {
   "cell_type": "markdown",
   "id": "8b7a7287-0fe0-453d-83b9-fcaa2e05b443",
   "metadata": {},
   "source": [
    "## Question 9\n",
    "\n",
    "Check if the list below contains the following fruits (\"apple\", \"guava\", \"pawpaw\", \"avocado\") and if it does, print a statement indicating that the list contains the fruits. If it doesn't, add the fruit to the list and print the new fruit list and a statement that says the fruit has been added (hint: use the if-else statement). \\\n",
    "**NOTE**: Write a different if-else statement for each of the item in this list (\"apple\", \"guava\", \"pawpaw\", \"avocado\").\n",
    "\n",
    "```python\n",
    "fruit_list = [\"apple\", \"banana\", \"orange\", \"grape\", \"pineapple\", \"strawberry\", \"watermelon\", \"kiwi\", \"peach\", \"mango\", \"pear\", \"plum\", \"cherry\", \"blueberry\", \"raspberry\", \"lemon\", \"lime\", \"apricot\", \"coconut\", \"fig\"]\n",
    "```\n"
   ]
  },
  {
   "cell_type": "code",
   "execution_count": 167,
   "id": "9d30feb2-6e19-4e79-8f98-c5348d4ed86e",
   "metadata": {},
   "outputs": [
    {
     "name": "stdout",
     "output_type": "stream",
     "text": [
      "Apple is inside the fruits\n",
      "Guava have been appended. ['apple', 'banana', 'orange', 'grape', 'pineapple', 'strawberry', 'watermelon', 'kiwi', 'peach', 'mango', 'pear', 'plum', 'cherry', 'blueberry', 'raspberry', 'lemon', 'lime', 'apricot', 'coconut', 'fig', 'guava']\n",
      "Pawpaw have been added. ['apple', 'banana', 'orange', 'grape', 'pineapple', 'strawberry', 'watermelon', 'kiwi', 'peach', 'mango', 'pear', 'plum', 'cherry', 'blueberry', 'raspberry', 'lemon', 'lime', 'apricot', 'coconut', 'fig', 'guava', 'pawpaw']\n",
      "Avocado have been added. ['apple', 'banana', 'orange', 'grape', 'pineapple', 'strawberry', 'watermelon', 'kiwi', 'peach', 'mango', 'pear', 'plum', 'cherry', 'blueberry', 'raspberry', 'lemon', 'lime', 'apricot', 'coconut', 'fig', 'guava', 'pawpaw', 'avocado']\n"
     ]
    }
   ],
   "source": [
    "fruits = [\"apple\", \"banana\", \"orange\", \"grape\", \"pineapple\", \"strawberry\", \"watermelon\", \"kiwi\", \"peach\", \"mango\", \"pear\", \"plum\", \"cherry\", \n",
    "          \"blueberry\", \"raspberry\", \"lemon\", \"lime\", \"apricot\", \"coconut\", \"fig\"]\n",
    "\n",
    "fruit = \"apple\"    #Assigning apple to a variable fruit\n",
    "\n",
    "if \"fruit\" in \"fruits\":\n",
    "    \n",
    "    print(\"Apple is inside the fruits\")\n",
    "else:\n",
    "    print(\"Apple is not inside\")\n",
    "\n",
    "name = \"guava\"    #Assigning guava to a variable \"name\"\n",
    "\n",
    "if \"name\" in \"fruits\":\n",
    "    print(\"Guava is inside the fruits\")\n",
    "else:\n",
    "    fruits.append(name)\n",
    "    print(f\"Guava have been appended. {fruits}\")\n",
    "\n",
    "type = \"pawpaw\"      #Assigning pawpaw to a variable \"type\"\n",
    "\n",
    "if \"type\" in fruits:\n",
    "    print(\"Pawpaw is inside the fruits\")\n",
    "else:\n",
    "    fruits.append(type)\n",
    "    print(f\"Pawpaw have been added. {fruits}\")\n",
    "\n",
    "nature = \"avocado\"        #Assigning avocado to a variable \"nature\"\n",
    "\n",
    "if \"nature\" in \"fruits\":\n",
    "    print(\"Avocado is inside the fruits\")\n",
    "else:\n",
    "    fruits.append(nature)\n",
    "    print(f\"Avocado have been added. {fruits}\")\n",
    "    "
   ]
  },
  {
   "cell_type": "markdown",
   "id": "9dd6a654-5797-4ed1-836d-6c32e006658a",
   "metadata": {},
   "source": [
    "## Question 10\n",
    "\n",
    "Write a Python program that takes the following student's exam score below and determines their grade based on the following criteria:\n",
    "\n",
    "```python\n",
    "student_a_score = 78\n",
    "student_b_score = 67\n",
    "student_c_score = 92\n",
    "```\n",
    "\n",
    "- If the score is between 90 and 100 (inclusive), print \"Grade: A\"\n",
    "- If the score is between 80 and 89 (inclusive), print \"Grade: B\"\n",
    "- If the score is between 70 and 79 (inclusive), print \"Grade: C\"\n",
    "- If the score is between 60 and 69 (inclusive), print \"Grade: D\"\n",
    "- If the score is below 60, print \"Grade: F\"\n",
    "\n",
    "Instructions:\n",
    "- Use an if-elif-else statement to determine the grade based on the score.\n",
    "- Make separate conditional statements for the three students\n",
    "- Print the corresponding grade message.\n",
    "\n",
    "**Hint: Use comparison and logical operators in your \"conditional statement\"**"
   ]
  },
  {
   "cell_type": "code",
   "execution_count": 213,
   "id": "63f8eb06-17ef-4fb1-aea0-20c5b9be3d40",
   "metadata": {},
   "outputs": [
    {
     "name": "stdout",
     "output_type": "stream",
     "text": [
      "Student A: Grade: C\n"
     ]
    }
   ],
   "source": [
    "# Calculating the student scores \n",
    "# Student scores\n",
    "student_a_score = 78\n",
    "\n",
    "\n",
    "# Function to determine grade based on score\n",
    "def determine_grade(score):\n",
    "    if 90 <= score <= 100:\n",
    "        return \"Grade: A\"\n",
    "    elif 80 <= score <= 89:\n",
    "        return \"Grade: B\"\n",
    "    elif 70 <= score <= 79:\n",
    "        return \"Grade: C\"\n",
    "    elif 60 <= score <= 69:\n",
    "        return \"Grade: D\"\n",
    "    else:\n",
    "        return \"Grade: F\"\n",
    "\n",
    "# Determine and print grades for each student\n",
    "print(f\"Student A: {determine_grade(student_a_score)}\")\n"
   ]
  },
  {
   "cell_type": "code",
   "execution_count": 217,
   "id": "097b26b9-4ffc-45f3-8499-7f71622c9d2e",
   "metadata": {},
   "outputs": [
    {
     "name": "stdout",
     "output_type": "stream",
     "text": [
      "Student B: Grade: D\n"
     ]
    }
   ],
   "source": [
    "# Student scores\n",
    "\n",
    "student_b_score = 67\n",
    "\n",
    "# Function to determine grade based on score\n",
    "def determine_grade(score):\n",
    "    if 90 <= score <= 100:\n",
    "        return \"Grade: A\"\n",
    "    elif 80 <= score <= 89:\n",
    "        return \"Grade: B\"\n",
    "    elif 70 <= score <= 79:\n",
    "        return \"Grade: C\"\n",
    "    elif 60 <= score <= 69:\n",
    "        return \"Grade: D\"\n",
    "    else:\n",
    "        return \"Grade: F\"\n",
    "\n",
    "# Determine and print grades for each student\n",
    "print(f\"Student B: {determine_grade(student_b_score)}\")\n"
   ]
  },
  {
   "cell_type": "code",
   "execution_count": 215,
   "id": "908a4058-f39a-4c52-a409-52d204b41ebc",
   "metadata": {},
   "outputs": [
    {
     "name": "stdout",
     "output_type": "stream",
     "text": [
      "Student C: Grade: A\n"
     ]
    }
   ],
   "source": [
    "# Student scores\n",
    "\n",
    "student_c_score = 92\n",
    "\n",
    "# Function to determine grade based on score\n",
    "def determine_grade(score):\n",
    "    if 90 <= score <= 100:\n",
    "        return \"Grade: A\"\n",
    "    elif 80 <= score <= 89:\n",
    "        return \"Grade: B\"\n",
    "    elif 70 <= score <= 79:\n",
    "        return \"Grade: C\"\n",
    "    elif 60 <= score <= 69:\n",
    "        return \"Grade: D\"\n",
    "    else:\n",
    "        return \"Grade: F\"\n",
    "\n",
    "# Determine and print grades for each student\n",
    "print(f\"Student C: {determine_grade(student_c_score)}\")"
   ]
  },
  {
   "cell_type": "code",
   "execution_count": null,
   "id": "e5a58f21-3eb1-43e4-aa53-febfb94d3d40",
   "metadata": {},
   "outputs": [],
   "source": []
  }
 ],
 "metadata": {
  "kernelspec": {
   "display_name": "Python 3 (ipykernel)",
   "language": "python",
   "name": "python3"
  },
  "language_info": {
   "codemirror_mode": {
    "name": "ipython",
    "version": 3
   },
   "file_extension": ".py",
   "mimetype": "text/x-python",
   "name": "python",
   "nbconvert_exporter": "python",
   "pygments_lexer": "ipython3",
   "version": "3.12.4"
  }
 },
 "nbformat": 4,
 "nbformat_minor": 5
}
